{
 "cells": [
  {
   "cell_type": "code",
   "execution_count": null,
   "id": "d5428401",
   "metadata": {},
   "outputs": [],
   "source": [
    "#1\n",
    "import json\n",
    "import pandas as pd\n",
    "import requests\n",
    "\n",
    "stocks = input(\"Enter the stock symbols separated by commas: \").split(',')\n",
    "stocks = [stock.strip() for stock in stocks]"
   ]
  },
  {
   "cell_type": "code",
   "execution_count": null,
   "id": "28f40358",
   "metadata": {},
   "outputs": [],
   "source": [
    "print(\"The Stock I will research is: \" + \", \".join(stocks))"
   ]
  },
  {
   "cell_type": "code",
   "execution_count": null,
   "id": "86970fb5",
   "metadata": {},
   "outputs": [],
   "source": [
    "#2\n",
    "apikey = \"kWrQxYRWpn7HD42WndRi34oYD7uSlqKbwcT1Trpb\" \n",
    "url = \"https://yfapi.net/v6/finance/quote\"\n",
    "\n",
    "for stock in stocks:\n",
    "    querystring = {\"symbols\": stock}\n",
    "    \n",
    "    headers = {\n",
    "        'x-api-key': apikey\n",
    "    }\n",
    "    \n",
    "    response = requests.request(\"GET\", url, headers=headers, params=querystring)\n",
    "    \n",
    "    if response.status_code == 200:\n",
    "        data = json.loads(response.text)\n",
    "        ticker_name = data['quoteResponse']['result'][0]['symbol']\n",
    "        full_name = data['quoteResponse']['result'][0]['longName']\n",
    "        current_price = data['quoteResponse']['result'][0]['regularMarketPrice']\n",
    "        target_mean_price = data['quoteResponse']['result'][0].get('targetMeanPrice', 'N/A')\n",
    "        year_high = data['quoteResponse']['result'][0].get('fiftyTwoWeekHigh', 'N/A')\n",
    "        year_low = data['quoteResponse']['result'][0].get('fiftyTwoWeekLow', 'N/A')\n",
    "        \n",
    "        print(f\"\\nDetails for {ticker_name}:\")\n",
    "        print(f\"Full Name: {full_name}\")\n",
    "        print(f\"Current Market Price: ${current_price}\")\n",
    "        print(f\"Target Mean Price: ${target_mean_price}\")\n",
    "        print(f\"52 Week High: ${year_high}\")\n",
    "        print(f\"52 Week Low: ${year_low}\")\n",
    "    else:\n",
    "        print(f\"Failed to retrieve data for {stock}. Status code: {response.status_code}\")"
   ]
  },
  {
   "cell_type": "code",
   "execution_count": null,
   "id": "c56b6e9e",
   "metadata": {},
   "outputs": [],
   "source": [
    "#3\n",
    "stock_data = []\n",
    "\n",
    "for stock in stocks:\n",
    "    querystring = {\"symbols\": stock}\n",
    "    \n",
    "    headers = {\n",
    "        'x-api-key': apikey\n",
    "    }\n",
    "    \n",
    "    response = requests.request(\"GET\", url, headers=headers, params=querystring)\n",
    "    \n",
    "    if response.status_code == 200:\n",
    "        data = json.loads(response.text)\n",
    "        result = data['quoteResponse']['result'][0]\n",
    "        \n",
    "        stock_info = {\n",
    "            \"Ticker Name\": result['symbol'],\n",
    "            \"Full Name\": result['longName'],\n",
    "            \"Current Market Price\": result['regularMarketPrice'],\n",
    "            \"Target Mean Price\": result.get('targetMeanPrice', 'N/A'),\n",
    "            \"52 Week High\": result.get('fiftyTwoWeekHigh', 'N/A'),\n",
    "            \"52 Week Low\": result.get('fiftyTwoWeekLow', 'N/A')\n",
    "        }\n",
    "        \n",
    "        stock_data.append(stock_info)\n",
    "        \n",
    "        print(f\"\\nDetails for {stock_info['Ticker Name']}:\")\n",
    "        print(f\"Full Name: {stock_info['Full Name']}\")\n",
    "        print(f\"Current Market Price: ${stock_info['Current Market Price']}\")\n",
    "        print(f\"Target Mean Price: ${stock_info['Target Mean Price']}\")\n",
    "        print(f\"52 Week High: ${stock_info['52 Week High']}\")\n",
    "        print(f\"52 Week Low: ${stock_info['52 Week Low']}\")\n",
    "    else:\n",
    "        print(f\"Failed to retrieve data for {stock}. Status code: {response.status_code}\")\n",
    "\n",
    "df = pd.DataFrame(stock_data)\n",
    "df.to_csv('stock_data.csv', index=False)\n",
    "\n",
    "print(\"\\nStock data has been saved to 'stock_data.csv'.\")\n",
    "print(df)"
   ]
  },
  {
   "cell_type": "code",
   "execution_count": null,
   "id": "a820a4ea",
   "metadata": {},
   "outputs": [],
   "source": []
  }
 ],
 "metadata": {
  "kernelspec": {
   "display_name": "Python 3 (ipykernel)",
   "language": "python",
   "name": "python3"
  },
  "language_info": {
   "codemirror_mode": {
    "name": "ipython",
    "version": 3
   },
   "file_extension": ".py",
   "mimetype": "text/x-python",
   "name": "python",
   "nbconvert_exporter": "python",
   "pygments_lexer": "ipython3",
   "version": "3.11.4"
  }
 },
 "nbformat": 4,
 "nbformat_minor": 5
}
